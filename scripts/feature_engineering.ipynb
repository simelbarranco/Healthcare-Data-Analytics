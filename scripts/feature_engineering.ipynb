{
 "cells": [
  {
   "cell_type": "code",
   "execution_count": 9,
   "id": "06bedfae",
   "metadata": {},
   "outputs": [
    {
     "name": "stdout",
     "output_type": "stream",
     "text": [
      "(54966, 15)\n",
      "name                   object\n",
      "age                     int64\n",
      "gender                 object\n",
      "blood_type             object\n",
      "medical_condition      object\n",
      "date_of_admission      object\n",
      "doctor                 object\n",
      "hospital               object\n",
      "insurance_provider     object\n",
      "billing_amount        float64\n",
      "room_number             int64\n",
      "admission_type         object\n",
      "discharge_date         object\n",
      "medication             object\n",
      "test_results           object\n",
      "dtype: object\n"
     ]
    },
    {
     "data": {
      "application/vnd.microsoft.datawrangler.viewer.v0+json": {
       "columns": [
        {
         "name": "index",
         "rawType": "int64",
         "type": "integer"
        },
        {
         "name": "name",
         "rawType": "object",
         "type": "string"
        },
        {
         "name": "age",
         "rawType": "int64",
         "type": "integer"
        },
        {
         "name": "gender",
         "rawType": "object",
         "type": "string"
        },
        {
         "name": "blood_type",
         "rawType": "object",
         "type": "string"
        },
        {
         "name": "medical_condition",
         "rawType": "object",
         "type": "string"
        },
        {
         "name": "date_of_admission",
         "rawType": "object",
         "type": "string"
        },
        {
         "name": "doctor",
         "rawType": "object",
         "type": "string"
        },
        {
         "name": "hospital",
         "rawType": "object",
         "type": "string"
        },
        {
         "name": "insurance_provider",
         "rawType": "object",
         "type": "string"
        },
        {
         "name": "billing_amount",
         "rawType": "float64",
         "type": "float"
        },
        {
         "name": "room_number",
         "rawType": "int64",
         "type": "integer"
        },
        {
         "name": "admission_type",
         "rawType": "object",
         "type": "string"
        },
        {
         "name": "discharge_date",
         "rawType": "object",
         "type": "string"
        },
        {
         "name": "medication",
         "rawType": "object",
         "type": "string"
        },
        {
         "name": "test_results",
         "rawType": "object",
         "type": "string"
        }
       ],
       "conversionMethod": "pd.DataFrame",
       "ref": "ab3a97d0-7368-4117-9ded-7b7b3afa7a5e",
       "rows": [
        [
         "0",
         "Bobby Jackson",
         "30",
         "Male",
         "B-",
         "Cancer",
         "2024-01-31",
         "Matthew Smith",
         "Sons and Miller",
         "Blue Cross",
         "18856.28",
         "328",
         "Urgent",
         "2024-02-02",
         "Paracetamol",
         "Normal"
        ],
        [
         "1",
         "Leslie Terry",
         "62",
         "Male",
         "A+",
         "Obesity",
         "2019-08-20",
         "Samantha Davies",
         "Kim Inc",
         "Medicare",
         "33643.33",
         "265",
         "Emergency",
         "2019-08-26",
         "Ibuprofen",
         "Inconclusive"
        ],
        [
         "2",
         "Danny Smith",
         "76",
         "Female",
         "A-",
         "Obesity",
         "2022-09-22",
         "Tiffany Mitchell",
         "Cook PLC",
         "Aetna",
         "27955.1",
         "205",
         "Emergency",
         "2022-10-07",
         "Aspirin",
         "Normal"
        ],
        [
         "3",
         "Andrew Watts",
         "28",
         "Female",
         "O+",
         "Diabetes",
         "2020-11-18",
         "Kevin Wells",
         "Hernandez Rogers and Vang",
         "Medicare",
         "37909.78",
         "450",
         "Elective",
         "2020-12-18",
         "Ibuprofen",
         "Abnormal"
        ],
        [
         "4",
         "Adrienne Bell",
         "43",
         "Female",
         "AB+",
         "Cancer",
         "2022-09-19",
         "Kathleen Hanna",
         "White-White",
         "Aetna",
         "14238.32",
         "458",
         "Urgent",
         "2022-10-09",
         "Penicillin",
         "Abnormal"
        ]
       ],
       "shape": {
        "columns": 15,
        "rows": 5
       }
      },
      "text/html": [
       "<div>\n",
       "<style scoped>\n",
       "    .dataframe tbody tr th:only-of-type {\n",
       "        vertical-align: middle;\n",
       "    }\n",
       "\n",
       "    .dataframe tbody tr th {\n",
       "        vertical-align: top;\n",
       "    }\n",
       "\n",
       "    .dataframe thead th {\n",
       "        text-align: right;\n",
       "    }\n",
       "</style>\n",
       "<table border=\"1\" class=\"dataframe\">\n",
       "  <thead>\n",
       "    <tr style=\"text-align: right;\">\n",
       "      <th></th>\n",
       "      <th>name</th>\n",
       "      <th>age</th>\n",
       "      <th>gender</th>\n",
       "      <th>blood_type</th>\n",
       "      <th>medical_condition</th>\n",
       "      <th>date_of_admission</th>\n",
       "      <th>doctor</th>\n",
       "      <th>hospital</th>\n",
       "      <th>insurance_provider</th>\n",
       "      <th>billing_amount</th>\n",
       "      <th>room_number</th>\n",
       "      <th>admission_type</th>\n",
       "      <th>discharge_date</th>\n",
       "      <th>medication</th>\n",
       "      <th>test_results</th>\n",
       "    </tr>\n",
       "  </thead>\n",
       "  <tbody>\n",
       "    <tr>\n",
       "      <th>0</th>\n",
       "      <td>Bobby Jackson</td>\n",
       "      <td>30</td>\n",
       "      <td>Male</td>\n",
       "      <td>B-</td>\n",
       "      <td>Cancer</td>\n",
       "      <td>2024-01-31</td>\n",
       "      <td>Matthew Smith</td>\n",
       "      <td>Sons and Miller</td>\n",
       "      <td>Blue Cross</td>\n",
       "      <td>18856.28</td>\n",
       "      <td>328</td>\n",
       "      <td>Urgent</td>\n",
       "      <td>2024-02-02</td>\n",
       "      <td>Paracetamol</td>\n",
       "      <td>Normal</td>\n",
       "    </tr>\n",
       "    <tr>\n",
       "      <th>1</th>\n",
       "      <td>Leslie Terry</td>\n",
       "      <td>62</td>\n",
       "      <td>Male</td>\n",
       "      <td>A+</td>\n",
       "      <td>Obesity</td>\n",
       "      <td>2019-08-20</td>\n",
       "      <td>Samantha Davies</td>\n",
       "      <td>Kim Inc</td>\n",
       "      <td>Medicare</td>\n",
       "      <td>33643.33</td>\n",
       "      <td>265</td>\n",
       "      <td>Emergency</td>\n",
       "      <td>2019-08-26</td>\n",
       "      <td>Ibuprofen</td>\n",
       "      <td>Inconclusive</td>\n",
       "    </tr>\n",
       "    <tr>\n",
       "      <th>2</th>\n",
       "      <td>Danny Smith</td>\n",
       "      <td>76</td>\n",
       "      <td>Female</td>\n",
       "      <td>A-</td>\n",
       "      <td>Obesity</td>\n",
       "      <td>2022-09-22</td>\n",
       "      <td>Tiffany Mitchell</td>\n",
       "      <td>Cook PLC</td>\n",
       "      <td>Aetna</td>\n",
       "      <td>27955.10</td>\n",
       "      <td>205</td>\n",
       "      <td>Emergency</td>\n",
       "      <td>2022-10-07</td>\n",
       "      <td>Aspirin</td>\n",
       "      <td>Normal</td>\n",
       "    </tr>\n",
       "    <tr>\n",
       "      <th>3</th>\n",
       "      <td>Andrew Watts</td>\n",
       "      <td>28</td>\n",
       "      <td>Female</td>\n",
       "      <td>O+</td>\n",
       "      <td>Diabetes</td>\n",
       "      <td>2020-11-18</td>\n",
       "      <td>Kevin Wells</td>\n",
       "      <td>Hernandez Rogers and Vang</td>\n",
       "      <td>Medicare</td>\n",
       "      <td>37909.78</td>\n",
       "      <td>450</td>\n",
       "      <td>Elective</td>\n",
       "      <td>2020-12-18</td>\n",
       "      <td>Ibuprofen</td>\n",
       "      <td>Abnormal</td>\n",
       "    </tr>\n",
       "    <tr>\n",
       "      <th>4</th>\n",
       "      <td>Adrienne Bell</td>\n",
       "      <td>43</td>\n",
       "      <td>Female</td>\n",
       "      <td>AB+</td>\n",
       "      <td>Cancer</td>\n",
       "      <td>2022-09-19</td>\n",
       "      <td>Kathleen Hanna</td>\n",
       "      <td>White-White</td>\n",
       "      <td>Aetna</td>\n",
       "      <td>14238.32</td>\n",
       "      <td>458</td>\n",
       "      <td>Urgent</td>\n",
       "      <td>2022-10-09</td>\n",
       "      <td>Penicillin</td>\n",
       "      <td>Abnormal</td>\n",
       "    </tr>\n",
       "  </tbody>\n",
       "</table>\n",
       "</div>"
      ],
      "text/plain": [
       "            name  age  gender blood_type medical_condition date_of_admission  \\\n",
       "0  Bobby Jackson   30    Male         B-            Cancer        2024-01-31   \n",
       "1   Leslie Terry   62    Male         A+           Obesity        2019-08-20   \n",
       "2    Danny Smith   76  Female         A-           Obesity        2022-09-22   \n",
       "3   Andrew Watts   28  Female         O+          Diabetes        2020-11-18   \n",
       "4  Adrienne Bell   43  Female        AB+            Cancer        2022-09-19   \n",
       "\n",
       "             doctor                   hospital insurance_provider  \\\n",
       "0     Matthew Smith            Sons and Miller         Blue Cross   \n",
       "1   Samantha Davies                    Kim Inc           Medicare   \n",
       "2  Tiffany Mitchell                   Cook PLC              Aetna   \n",
       "3       Kevin Wells  Hernandez Rogers and Vang           Medicare   \n",
       "4    Kathleen Hanna                White-White              Aetna   \n",
       "\n",
       "   billing_amount  room_number admission_type discharge_date   medication  \\\n",
       "0        18856.28          328         Urgent     2024-02-02  Paracetamol   \n",
       "1        33643.33          265      Emergency     2019-08-26    Ibuprofen   \n",
       "2        27955.10          205      Emergency     2022-10-07      Aspirin   \n",
       "3        37909.78          450       Elective     2020-12-18    Ibuprofen   \n",
       "4        14238.32          458         Urgent     2022-10-09   Penicillin   \n",
       "\n",
       "   test_results  \n",
       "0        Normal  \n",
       "1  Inconclusive  \n",
       "2        Normal  \n",
       "3      Abnormal  \n",
       "4      Abnormal  "
      ]
     },
     "execution_count": 9,
     "metadata": {},
     "output_type": "execute_result"
    }
   ],
   "source": [
    "import pandas as pd\n",
    "\n",
    "# Loading the dataset\n",
    "cleaned_df = pd.read_csv('../data/cleaned/cleaned_dataset.csv')\n",
    "\n",
    "# Quick look at the structure\n",
    "print(cleaned_df.shape)\n",
    "print(cleaned_df.dtypes)\n",
    "dashboard_df = cleaned_df.copy()\n",
    "dashboard_df.head()"
   ]
  },
  {
   "cell_type": "markdown",
   "id": "d9ed230a",
   "metadata": {},
   "source": [
    "---"
   ]
  },
  {
   "cell_type": "code",
   "execution_count": 2,
   "id": "e4c3883f",
   "metadata": {},
   "outputs": [
    {
     "data": {
      "application/vnd.microsoft.datawrangler.viewer.v0+json": {
       "columns": [
        {
         "name": "index",
         "rawType": "int64",
         "type": "integer"
        },
        {
         "name": "name",
         "rawType": "object",
         "type": "string"
        },
        {
         "name": "age",
         "rawType": "int64",
         "type": "integer"
        },
        {
         "name": "gender",
         "rawType": "object",
         "type": "string"
        },
        {
         "name": "blood_type",
         "rawType": "object",
         "type": "string"
        },
        {
         "name": "medical_condition",
         "rawType": "object",
         "type": "string"
        },
        {
         "name": "date_of_admission",
         "rawType": "object",
         "type": "string"
        },
        {
         "name": "doctor",
         "rawType": "object",
         "type": "string"
        },
        {
         "name": "hospital",
         "rawType": "object",
         "type": "string"
        },
        {
         "name": "insurance_provider",
         "rawType": "object",
         "type": "string"
        },
        {
         "name": "billing_amount",
         "rawType": "float64",
         "type": "float"
        },
        {
         "name": "room_number",
         "rawType": "int64",
         "type": "integer"
        },
        {
         "name": "admission_type",
         "rawType": "object",
         "type": "string"
        },
        {
         "name": "discharge_date",
         "rawType": "object",
         "type": "string"
        },
        {
         "name": "medication",
         "rawType": "object",
         "type": "string"
        },
        {
         "name": "test_results",
         "rawType": "object",
         "type": "string"
        },
        {
         "name": "patient_id",
         "rawType": "object",
         "type": "string"
        }
       ],
       "conversionMethod": "pd.DataFrame",
       "ref": "ead21587-7b03-40a6-9c4e-9aa6e7f6d424",
       "rows": [
        [
         "0",
         "Bobby Jackson",
         "30",
         "Male",
         "B-",
         "Cancer",
         "2024-01-31",
         "Matthew Smith",
         "Sons and Miller",
         "Blue Cross",
         "18856.28",
         "328",
         "Urgent",
         "2024-02-02",
         "Paracetamol",
         "Normal",
         "BJ328CA_628"
        ],
        [
         "1",
         "Leslie Terry",
         "62",
         "Male",
         "A+",
         "Obesity",
         "2019-08-20",
         "Samantha Davies",
         "Kim Inc",
         "Medicare",
         "33643.33",
         "265",
         "Emergency",
         "2019-08-26",
         "Ibuprofen",
         "Inconclusive",
         "LT265OB_C0E"
        ],
        [
         "2",
         "Danny Smith",
         "76",
         "Female",
         "A-",
         "Obesity",
         "2022-09-22",
         "Tiffany Mitchell",
         "Cook PLC",
         "Aetna",
         "27955.1",
         "205",
         "Emergency",
         "2022-10-07",
         "Aspirin",
         "Normal",
         "DS205OB_EF6"
        ],
        [
         "3",
         "Andrew Watts",
         "28",
         "Female",
         "O+",
         "Diabetes",
         "2020-11-18",
         "Kevin Wells",
         "Hernandez Rogers and Vang",
         "Medicare",
         "37909.78",
         "450",
         "Elective",
         "2020-12-18",
         "Ibuprofen",
         "Abnormal",
         "AW450DB_991"
        ],
        [
         "4",
         "Adrienne Bell",
         "43",
         "Female",
         "AB+",
         "Cancer",
         "2022-09-19",
         "Kathleen Hanna",
         "White-White",
         "Aetna",
         "14238.32",
         "458",
         "Urgent",
         "2022-10-09",
         "Penicillin",
         "Abnormal",
         "AB458CA_E7B"
        ]
       ],
       "shape": {
        "columns": 16,
        "rows": 5
       }
      },
      "text/html": [
       "<div>\n",
       "<style scoped>\n",
       "    .dataframe tbody tr th:only-of-type {\n",
       "        vertical-align: middle;\n",
       "    }\n",
       "\n",
       "    .dataframe tbody tr th {\n",
       "        vertical-align: top;\n",
       "    }\n",
       "\n",
       "    .dataframe thead th {\n",
       "        text-align: right;\n",
       "    }\n",
       "</style>\n",
       "<table border=\"1\" class=\"dataframe\">\n",
       "  <thead>\n",
       "    <tr style=\"text-align: right;\">\n",
       "      <th></th>\n",
       "      <th>name</th>\n",
       "      <th>age</th>\n",
       "      <th>gender</th>\n",
       "      <th>blood_type</th>\n",
       "      <th>medical_condition</th>\n",
       "      <th>date_of_admission</th>\n",
       "      <th>doctor</th>\n",
       "      <th>hospital</th>\n",
       "      <th>insurance_provider</th>\n",
       "      <th>billing_amount</th>\n",
       "      <th>room_number</th>\n",
       "      <th>admission_type</th>\n",
       "      <th>discharge_date</th>\n",
       "      <th>medication</th>\n",
       "      <th>test_results</th>\n",
       "      <th>patient_id</th>\n",
       "    </tr>\n",
       "  </thead>\n",
       "  <tbody>\n",
       "    <tr>\n",
       "      <th>0</th>\n",
       "      <td>Bobby Jackson</td>\n",
       "      <td>30</td>\n",
       "      <td>Male</td>\n",
       "      <td>B-</td>\n",
       "      <td>Cancer</td>\n",
       "      <td>2024-01-31</td>\n",
       "      <td>Matthew Smith</td>\n",
       "      <td>Sons and Miller</td>\n",
       "      <td>Blue Cross</td>\n",
       "      <td>18856.28</td>\n",
       "      <td>328</td>\n",
       "      <td>Urgent</td>\n",
       "      <td>2024-02-02</td>\n",
       "      <td>Paracetamol</td>\n",
       "      <td>Normal</td>\n",
       "      <td>BJ328CA_628</td>\n",
       "    </tr>\n",
       "    <tr>\n",
       "      <th>1</th>\n",
       "      <td>Leslie Terry</td>\n",
       "      <td>62</td>\n",
       "      <td>Male</td>\n",
       "      <td>A+</td>\n",
       "      <td>Obesity</td>\n",
       "      <td>2019-08-20</td>\n",
       "      <td>Samantha Davies</td>\n",
       "      <td>Kim Inc</td>\n",
       "      <td>Medicare</td>\n",
       "      <td>33643.33</td>\n",
       "      <td>265</td>\n",
       "      <td>Emergency</td>\n",
       "      <td>2019-08-26</td>\n",
       "      <td>Ibuprofen</td>\n",
       "      <td>Inconclusive</td>\n",
       "      <td>LT265OB_C0E</td>\n",
       "    </tr>\n",
       "    <tr>\n",
       "      <th>2</th>\n",
       "      <td>Danny Smith</td>\n",
       "      <td>76</td>\n",
       "      <td>Female</td>\n",
       "      <td>A-</td>\n",
       "      <td>Obesity</td>\n",
       "      <td>2022-09-22</td>\n",
       "      <td>Tiffany Mitchell</td>\n",
       "      <td>Cook PLC</td>\n",
       "      <td>Aetna</td>\n",
       "      <td>27955.10</td>\n",
       "      <td>205</td>\n",
       "      <td>Emergency</td>\n",
       "      <td>2022-10-07</td>\n",
       "      <td>Aspirin</td>\n",
       "      <td>Normal</td>\n",
       "      <td>DS205OB_EF6</td>\n",
       "    </tr>\n",
       "    <tr>\n",
       "      <th>3</th>\n",
       "      <td>Andrew Watts</td>\n",
       "      <td>28</td>\n",
       "      <td>Female</td>\n",
       "      <td>O+</td>\n",
       "      <td>Diabetes</td>\n",
       "      <td>2020-11-18</td>\n",
       "      <td>Kevin Wells</td>\n",
       "      <td>Hernandez Rogers and Vang</td>\n",
       "      <td>Medicare</td>\n",
       "      <td>37909.78</td>\n",
       "      <td>450</td>\n",
       "      <td>Elective</td>\n",
       "      <td>2020-12-18</td>\n",
       "      <td>Ibuprofen</td>\n",
       "      <td>Abnormal</td>\n",
       "      <td>AW450DB_991</td>\n",
       "    </tr>\n",
       "    <tr>\n",
       "      <th>4</th>\n",
       "      <td>Adrienne Bell</td>\n",
       "      <td>43</td>\n",
       "      <td>Female</td>\n",
       "      <td>AB+</td>\n",
       "      <td>Cancer</td>\n",
       "      <td>2022-09-19</td>\n",
       "      <td>Kathleen Hanna</td>\n",
       "      <td>White-White</td>\n",
       "      <td>Aetna</td>\n",
       "      <td>14238.32</td>\n",
       "      <td>458</td>\n",
       "      <td>Urgent</td>\n",
       "      <td>2022-10-09</td>\n",
       "      <td>Penicillin</td>\n",
       "      <td>Abnormal</td>\n",
       "      <td>AB458CA_E7B</td>\n",
       "    </tr>\n",
       "  </tbody>\n",
       "</table>\n",
       "</div>"
      ],
      "text/plain": [
       "            name  age  gender blood_type medical_condition date_of_admission  \\\n",
       "0  Bobby Jackson   30    Male         B-            Cancer        2024-01-31   \n",
       "1   Leslie Terry   62    Male         A+           Obesity        2019-08-20   \n",
       "2    Danny Smith   76  Female         A-           Obesity        2022-09-22   \n",
       "3   Andrew Watts   28  Female         O+          Diabetes        2020-11-18   \n",
       "4  Adrienne Bell   43  Female        AB+            Cancer        2022-09-19   \n",
       "\n",
       "             doctor                   hospital insurance_provider  \\\n",
       "0     Matthew Smith            Sons and Miller         Blue Cross   \n",
       "1   Samantha Davies                    Kim Inc           Medicare   \n",
       "2  Tiffany Mitchell                   Cook PLC              Aetna   \n",
       "3       Kevin Wells  Hernandez Rogers and Vang           Medicare   \n",
       "4    Kathleen Hanna                White-White              Aetna   \n",
       "\n",
       "   billing_amount  room_number admission_type discharge_date   medication  \\\n",
       "0        18856.28          328         Urgent     2024-02-02  Paracetamol   \n",
       "1        33643.33          265      Emergency     2019-08-26    Ibuprofen   \n",
       "2        27955.10          205      Emergency     2022-10-07      Aspirin   \n",
       "3        37909.78          450       Elective     2020-12-18    Ibuprofen   \n",
       "4        14238.32          458         Urgent     2022-10-09   Penicillin   \n",
       "\n",
       "   test_results   patient_id  \n",
       "0        Normal  BJ328CA_628  \n",
       "1  Inconclusive  LT265OB_C0E  \n",
       "2        Normal  DS205OB_EF6  \n",
       "3      Abnormal  AW450DB_991  \n",
       "4      Abnormal  AB458CA_E7B  "
      ]
     },
     "execution_count": 2,
     "metadata": {},
     "output_type": "execute_result"
    }
   ],
   "source": [
    "### Feature #1: Patient ID\n",
    "\n",
    "import hashlib\n",
    "\n",
    "# Condition abbreviation map\n",
    "condition_map = {\n",
    "    'Cancer': 'CA',\n",
    "    'Obesity': 'OB',\n",
    "    'Diabetes': 'DB',\n",
    "    'Asthma': 'AS',\n",
    "    'Hypertension': 'HT',\n",
    "    'Arthritis': 'AR'\n",
    "}\n",
    "\n",
    "def create_patient_id(row):\n",
    "\n",
    "    # ============== Parameters ==============\n",
    "\n",
    "    # First and Last Name\n",
    "    full_name = row['name'].strip().split()\n",
    "    first_initial = full_name[0][0].upper() if len(full_name) > 0 else 'X'\n",
    "    last_initial = full_name[1][0].upper() if len(full_name) > 1 else 'X'\n",
    "\n",
    "    # Room Number\n",
    "    room = str(row['room_number']) if pd.notnull(row['room_number']) else '000'\n",
    "\n",
    "    # Medical Condition\n",
    "    condition_abbr = condition_map.get(row['medical_condition'], 'XX')  # Use a predefined map\n",
    "\n",
    "    # ============== Adding the short hash ==============\n",
    "\n",
    "    # Putting all parameters together to create the unique ID\n",
    "    base_id = f\"{first_initial}{last_initial}{room}{condition_abbr}\"\n",
    "\n",
    "    hash_suffix = hashlib.md5(base_id.encode()).hexdigest()[:3].upper()\n",
    "\n",
    "    return f\"{base_id}_{hash_suffix}\"\n",
    "\n",
    "dashboard_df['patient_id'] = dashboard_df.apply(create_patient_id, axis=1)\n",
    "dashboard_df.head()"
   ]
  },
  {
   "cell_type": "code",
   "execution_count": 3,
   "id": "c5b8a5ce",
   "metadata": {},
   "outputs": [
    {
     "data": {
      "application/vnd.microsoft.datawrangler.viewer.v0+json": {
       "columns": [
        {
         "name": "index",
         "rawType": "int64",
         "type": "integer"
        },
        {
         "name": "patient_id",
         "rawType": "object",
         "type": "string"
        },
        {
         "name": "name",
         "rawType": "object",
         "type": "string"
        },
        {
         "name": "age",
         "rawType": "int64",
         "type": "integer"
        },
        {
         "name": "gender",
         "rawType": "object",
         "type": "string"
        },
        {
         "name": "blood_type",
         "rawType": "object",
         "type": "string"
        },
        {
         "name": "medical_condition",
         "rawType": "object",
         "type": "string"
        },
        {
         "name": "date_of_admission",
         "rawType": "object",
         "type": "string"
        },
        {
         "name": "doctor",
         "rawType": "object",
         "type": "string"
        },
        {
         "name": "hospital",
         "rawType": "object",
         "type": "string"
        },
        {
         "name": "insurance_provider",
         "rawType": "object",
         "type": "string"
        },
        {
         "name": "billing_amount",
         "rawType": "float64",
         "type": "float"
        },
        {
         "name": "room_number",
         "rawType": "int64",
         "type": "integer"
        },
        {
         "name": "admission_type",
         "rawType": "object",
         "type": "string"
        },
        {
         "name": "discharge_date",
         "rawType": "object",
         "type": "string"
        },
        {
         "name": "medication",
         "rawType": "object",
         "type": "string"
        },
        {
         "name": "test_results",
         "rawType": "object",
         "type": "string"
        }
       ],
       "conversionMethod": "pd.DataFrame",
       "ref": "620ed37d-db14-4ef1-9dd2-914b94154f42",
       "rows": [
        [
         "0",
         "BJ328CA_628",
         "Bobby Jackson",
         "30",
         "Male",
         "B-",
         "Cancer",
         "2024-01-31",
         "Matthew Smith",
         "Sons and Miller",
         "Blue Cross",
         "18856.28",
         "328",
         "Urgent",
         "2024-02-02",
         "Paracetamol",
         "Normal"
        ],
        [
         "1",
         "LT265OB_C0E",
         "Leslie Terry",
         "62",
         "Male",
         "A+",
         "Obesity",
         "2019-08-20",
         "Samantha Davies",
         "Kim Inc",
         "Medicare",
         "33643.33",
         "265",
         "Emergency",
         "2019-08-26",
         "Ibuprofen",
         "Inconclusive"
        ],
        [
         "2",
         "DS205OB_EF6",
         "Danny Smith",
         "76",
         "Female",
         "A-",
         "Obesity",
         "2022-09-22",
         "Tiffany Mitchell",
         "Cook PLC",
         "Aetna",
         "27955.1",
         "205",
         "Emergency",
         "2022-10-07",
         "Aspirin",
         "Normal"
        ],
        [
         "3",
         "AW450DB_991",
         "Andrew Watts",
         "28",
         "Female",
         "O+",
         "Diabetes",
         "2020-11-18",
         "Kevin Wells",
         "Hernandez Rogers and Vang",
         "Medicare",
         "37909.78",
         "450",
         "Elective",
         "2020-12-18",
         "Ibuprofen",
         "Abnormal"
        ],
        [
         "4",
         "AB458CA_E7B",
         "Adrienne Bell",
         "43",
         "Female",
         "AB+",
         "Cancer",
         "2022-09-19",
         "Kathleen Hanna",
         "White-White",
         "Aetna",
         "14238.32",
         "458",
         "Urgent",
         "2022-10-09",
         "Penicillin",
         "Abnormal"
        ]
       ],
       "shape": {
        "columns": 16,
        "rows": 5
       }
      },
      "text/html": [
       "<div>\n",
       "<style scoped>\n",
       "    .dataframe tbody tr th:only-of-type {\n",
       "        vertical-align: middle;\n",
       "    }\n",
       "\n",
       "    .dataframe tbody tr th {\n",
       "        vertical-align: top;\n",
       "    }\n",
       "\n",
       "    .dataframe thead th {\n",
       "        text-align: right;\n",
       "    }\n",
       "</style>\n",
       "<table border=\"1\" class=\"dataframe\">\n",
       "  <thead>\n",
       "    <tr style=\"text-align: right;\">\n",
       "      <th></th>\n",
       "      <th>patient_id</th>\n",
       "      <th>name</th>\n",
       "      <th>age</th>\n",
       "      <th>gender</th>\n",
       "      <th>blood_type</th>\n",
       "      <th>medical_condition</th>\n",
       "      <th>date_of_admission</th>\n",
       "      <th>doctor</th>\n",
       "      <th>hospital</th>\n",
       "      <th>insurance_provider</th>\n",
       "      <th>billing_amount</th>\n",
       "      <th>room_number</th>\n",
       "      <th>admission_type</th>\n",
       "      <th>discharge_date</th>\n",
       "      <th>medication</th>\n",
       "      <th>test_results</th>\n",
       "    </tr>\n",
       "  </thead>\n",
       "  <tbody>\n",
       "    <tr>\n",
       "      <th>0</th>\n",
       "      <td>BJ328CA_628</td>\n",
       "      <td>Bobby Jackson</td>\n",
       "      <td>30</td>\n",
       "      <td>Male</td>\n",
       "      <td>B-</td>\n",
       "      <td>Cancer</td>\n",
       "      <td>2024-01-31</td>\n",
       "      <td>Matthew Smith</td>\n",
       "      <td>Sons and Miller</td>\n",
       "      <td>Blue Cross</td>\n",
       "      <td>18856.28</td>\n",
       "      <td>328</td>\n",
       "      <td>Urgent</td>\n",
       "      <td>2024-02-02</td>\n",
       "      <td>Paracetamol</td>\n",
       "      <td>Normal</td>\n",
       "    </tr>\n",
       "    <tr>\n",
       "      <th>1</th>\n",
       "      <td>LT265OB_C0E</td>\n",
       "      <td>Leslie Terry</td>\n",
       "      <td>62</td>\n",
       "      <td>Male</td>\n",
       "      <td>A+</td>\n",
       "      <td>Obesity</td>\n",
       "      <td>2019-08-20</td>\n",
       "      <td>Samantha Davies</td>\n",
       "      <td>Kim Inc</td>\n",
       "      <td>Medicare</td>\n",
       "      <td>33643.33</td>\n",
       "      <td>265</td>\n",
       "      <td>Emergency</td>\n",
       "      <td>2019-08-26</td>\n",
       "      <td>Ibuprofen</td>\n",
       "      <td>Inconclusive</td>\n",
       "    </tr>\n",
       "    <tr>\n",
       "      <th>2</th>\n",
       "      <td>DS205OB_EF6</td>\n",
       "      <td>Danny Smith</td>\n",
       "      <td>76</td>\n",
       "      <td>Female</td>\n",
       "      <td>A-</td>\n",
       "      <td>Obesity</td>\n",
       "      <td>2022-09-22</td>\n",
       "      <td>Tiffany Mitchell</td>\n",
       "      <td>Cook PLC</td>\n",
       "      <td>Aetna</td>\n",
       "      <td>27955.10</td>\n",
       "      <td>205</td>\n",
       "      <td>Emergency</td>\n",
       "      <td>2022-10-07</td>\n",
       "      <td>Aspirin</td>\n",
       "      <td>Normal</td>\n",
       "    </tr>\n",
       "    <tr>\n",
       "      <th>3</th>\n",
       "      <td>AW450DB_991</td>\n",
       "      <td>Andrew Watts</td>\n",
       "      <td>28</td>\n",
       "      <td>Female</td>\n",
       "      <td>O+</td>\n",
       "      <td>Diabetes</td>\n",
       "      <td>2020-11-18</td>\n",
       "      <td>Kevin Wells</td>\n",
       "      <td>Hernandez Rogers and Vang</td>\n",
       "      <td>Medicare</td>\n",
       "      <td>37909.78</td>\n",
       "      <td>450</td>\n",
       "      <td>Elective</td>\n",
       "      <td>2020-12-18</td>\n",
       "      <td>Ibuprofen</td>\n",
       "      <td>Abnormal</td>\n",
       "    </tr>\n",
       "    <tr>\n",
       "      <th>4</th>\n",
       "      <td>AB458CA_E7B</td>\n",
       "      <td>Adrienne Bell</td>\n",
       "      <td>43</td>\n",
       "      <td>Female</td>\n",
       "      <td>AB+</td>\n",
       "      <td>Cancer</td>\n",
       "      <td>2022-09-19</td>\n",
       "      <td>Kathleen Hanna</td>\n",
       "      <td>White-White</td>\n",
       "      <td>Aetna</td>\n",
       "      <td>14238.32</td>\n",
       "      <td>458</td>\n",
       "      <td>Urgent</td>\n",
       "      <td>2022-10-09</td>\n",
       "      <td>Penicillin</td>\n",
       "      <td>Abnormal</td>\n",
       "    </tr>\n",
       "  </tbody>\n",
       "</table>\n",
       "</div>"
      ],
      "text/plain": [
       "    patient_id           name  age  gender blood_type medical_condition  \\\n",
       "0  BJ328CA_628  Bobby Jackson   30    Male         B-            Cancer   \n",
       "1  LT265OB_C0E   Leslie Terry   62    Male         A+           Obesity   \n",
       "2  DS205OB_EF6    Danny Smith   76  Female         A-           Obesity   \n",
       "3  AW450DB_991   Andrew Watts   28  Female         O+          Diabetes   \n",
       "4  AB458CA_E7B  Adrienne Bell   43  Female        AB+            Cancer   \n",
       "\n",
       "  date_of_admission            doctor                   hospital  \\\n",
       "0        2024-01-31     Matthew Smith            Sons and Miller   \n",
       "1        2019-08-20   Samantha Davies                    Kim Inc   \n",
       "2        2022-09-22  Tiffany Mitchell                   Cook PLC   \n",
       "3        2020-11-18       Kevin Wells  Hernandez Rogers and Vang   \n",
       "4        2022-09-19    Kathleen Hanna                White-White   \n",
       "\n",
       "  insurance_provider  billing_amount  room_number admission_type  \\\n",
       "0         Blue Cross        18856.28          328         Urgent   \n",
       "1           Medicare        33643.33          265      Emergency   \n",
       "2              Aetna        27955.10          205      Emergency   \n",
       "3           Medicare        37909.78          450       Elective   \n",
       "4              Aetna        14238.32          458         Urgent   \n",
       "\n",
       "  discharge_date   medication  test_results  \n",
       "0     2024-02-02  Paracetamol        Normal  \n",
       "1     2019-08-26    Ibuprofen  Inconclusive  \n",
       "2     2022-10-07      Aspirin        Normal  \n",
       "3     2020-12-18    Ibuprofen      Abnormal  \n",
       "4     2022-10-09   Penicillin      Abnormal  "
      ]
     },
     "execution_count": 3,
     "metadata": {},
     "output_type": "execute_result"
    }
   ],
   "source": [
    "# Ensuring the unique ID is at the start of the dataset\n",
    "cols = ['patient_id'] + [col for col in dashboard_df.columns if col != 'patient_id']\n",
    "dashboard_df = dashboard_df[cols]\n",
    "dashboard_df.head()"
   ]
  },
  {
   "cell_type": "markdown",
   "id": "d79237cf",
   "metadata": {},
   "source": [
    "---"
   ]
  },
  {
   "cell_type": "code",
   "execution_count": 4,
   "id": "ab00afbf",
   "metadata": {},
   "outputs": [
    {
     "data": {
      "application/vnd.microsoft.datawrangler.viewer.v0+json": {
       "columns": [
        {
         "name": "index",
         "rawType": "int64",
         "type": "integer"
        },
        {
         "name": "patient_id",
         "rawType": "object",
         "type": "string"
        },
        {
         "name": "name",
         "rawType": "object",
         "type": "string"
        },
        {
         "name": "age",
         "rawType": "int64",
         "type": "integer"
        },
        {
         "name": "gender",
         "rawType": "object",
         "type": "string"
        },
        {
         "name": "blood_type",
         "rawType": "object",
         "type": "string"
        },
        {
         "name": "medical_condition",
         "rawType": "object",
         "type": "string"
        },
        {
         "name": "date_of_admission",
         "rawType": "datetime64[ns]",
         "type": "datetime"
        },
        {
         "name": "doctor",
         "rawType": "object",
         "type": "string"
        },
        {
         "name": "hospital",
         "rawType": "object",
         "type": "string"
        },
        {
         "name": "insurance_provider",
         "rawType": "object",
         "type": "string"
        },
        {
         "name": "billing_amount",
         "rawType": "float64",
         "type": "float"
        },
        {
         "name": "room_number",
         "rawType": "int64",
         "type": "integer"
        },
        {
         "name": "admission_type",
         "rawType": "object",
         "type": "string"
        },
        {
         "name": "discharge_date",
         "rawType": "datetime64[ns]",
         "type": "datetime"
        },
        {
         "name": "medication",
         "rawType": "object",
         "type": "string"
        },
        {
         "name": "test_results",
         "rawType": "object",
         "type": "string"
        },
        {
         "name": "length_of_stay",
         "rawType": "int64",
         "type": "integer"
        }
       ],
       "conversionMethod": "pd.DataFrame",
       "ref": "86182560-cf37-456d-989b-401984347539",
       "rows": [
        [
         "0",
         "BJ328CA_628",
         "Bobby Jackson",
         "30",
         "Male",
         "B-",
         "Cancer",
         "2024-01-31 00:00:00",
         "Matthew Smith",
         "Sons and Miller",
         "Blue Cross",
         "18856.28",
         "328",
         "Urgent",
         "2024-02-02 00:00:00",
         "Paracetamol",
         "Normal",
         "2"
        ],
        [
         "1",
         "LT265OB_C0E",
         "Leslie Terry",
         "62",
         "Male",
         "A+",
         "Obesity",
         "2019-08-20 00:00:00",
         "Samantha Davies",
         "Kim Inc",
         "Medicare",
         "33643.33",
         "265",
         "Emergency",
         "2019-08-26 00:00:00",
         "Ibuprofen",
         "Inconclusive",
         "6"
        ],
        [
         "2",
         "DS205OB_EF6",
         "Danny Smith",
         "76",
         "Female",
         "A-",
         "Obesity",
         "2022-09-22 00:00:00",
         "Tiffany Mitchell",
         "Cook PLC",
         "Aetna",
         "27955.1",
         "205",
         "Emergency",
         "2022-10-07 00:00:00",
         "Aspirin",
         "Normal",
         "15"
        ],
        [
         "3",
         "AW450DB_991",
         "Andrew Watts",
         "28",
         "Female",
         "O+",
         "Diabetes",
         "2020-11-18 00:00:00",
         "Kevin Wells",
         "Hernandez Rogers and Vang",
         "Medicare",
         "37909.78",
         "450",
         "Elective",
         "2020-12-18 00:00:00",
         "Ibuprofen",
         "Abnormal",
         "30"
        ],
        [
         "4",
         "AB458CA_E7B",
         "Adrienne Bell",
         "43",
         "Female",
         "AB+",
         "Cancer",
         "2022-09-19 00:00:00",
         "Kathleen Hanna",
         "White-White",
         "Aetna",
         "14238.32",
         "458",
         "Urgent",
         "2022-10-09 00:00:00",
         "Penicillin",
         "Abnormal",
         "20"
        ]
       ],
       "shape": {
        "columns": 17,
        "rows": 5
       }
      },
      "text/html": [
       "<div>\n",
       "<style scoped>\n",
       "    .dataframe tbody tr th:only-of-type {\n",
       "        vertical-align: middle;\n",
       "    }\n",
       "\n",
       "    .dataframe tbody tr th {\n",
       "        vertical-align: top;\n",
       "    }\n",
       "\n",
       "    .dataframe thead th {\n",
       "        text-align: right;\n",
       "    }\n",
       "</style>\n",
       "<table border=\"1\" class=\"dataframe\">\n",
       "  <thead>\n",
       "    <tr style=\"text-align: right;\">\n",
       "      <th></th>\n",
       "      <th>patient_id</th>\n",
       "      <th>name</th>\n",
       "      <th>age</th>\n",
       "      <th>gender</th>\n",
       "      <th>blood_type</th>\n",
       "      <th>medical_condition</th>\n",
       "      <th>date_of_admission</th>\n",
       "      <th>doctor</th>\n",
       "      <th>hospital</th>\n",
       "      <th>insurance_provider</th>\n",
       "      <th>billing_amount</th>\n",
       "      <th>room_number</th>\n",
       "      <th>admission_type</th>\n",
       "      <th>discharge_date</th>\n",
       "      <th>medication</th>\n",
       "      <th>test_results</th>\n",
       "      <th>length_of_stay</th>\n",
       "    </tr>\n",
       "  </thead>\n",
       "  <tbody>\n",
       "    <tr>\n",
       "      <th>0</th>\n",
       "      <td>BJ328CA_628</td>\n",
       "      <td>Bobby Jackson</td>\n",
       "      <td>30</td>\n",
       "      <td>Male</td>\n",
       "      <td>B-</td>\n",
       "      <td>Cancer</td>\n",
       "      <td>2024-01-31</td>\n",
       "      <td>Matthew Smith</td>\n",
       "      <td>Sons and Miller</td>\n",
       "      <td>Blue Cross</td>\n",
       "      <td>18856.28</td>\n",
       "      <td>328</td>\n",
       "      <td>Urgent</td>\n",
       "      <td>2024-02-02</td>\n",
       "      <td>Paracetamol</td>\n",
       "      <td>Normal</td>\n",
       "      <td>2</td>\n",
       "    </tr>\n",
       "    <tr>\n",
       "      <th>1</th>\n",
       "      <td>LT265OB_C0E</td>\n",
       "      <td>Leslie Terry</td>\n",
       "      <td>62</td>\n",
       "      <td>Male</td>\n",
       "      <td>A+</td>\n",
       "      <td>Obesity</td>\n",
       "      <td>2019-08-20</td>\n",
       "      <td>Samantha Davies</td>\n",
       "      <td>Kim Inc</td>\n",
       "      <td>Medicare</td>\n",
       "      <td>33643.33</td>\n",
       "      <td>265</td>\n",
       "      <td>Emergency</td>\n",
       "      <td>2019-08-26</td>\n",
       "      <td>Ibuprofen</td>\n",
       "      <td>Inconclusive</td>\n",
       "      <td>6</td>\n",
       "    </tr>\n",
       "    <tr>\n",
       "      <th>2</th>\n",
       "      <td>DS205OB_EF6</td>\n",
       "      <td>Danny Smith</td>\n",
       "      <td>76</td>\n",
       "      <td>Female</td>\n",
       "      <td>A-</td>\n",
       "      <td>Obesity</td>\n",
       "      <td>2022-09-22</td>\n",
       "      <td>Tiffany Mitchell</td>\n",
       "      <td>Cook PLC</td>\n",
       "      <td>Aetna</td>\n",
       "      <td>27955.10</td>\n",
       "      <td>205</td>\n",
       "      <td>Emergency</td>\n",
       "      <td>2022-10-07</td>\n",
       "      <td>Aspirin</td>\n",
       "      <td>Normal</td>\n",
       "      <td>15</td>\n",
       "    </tr>\n",
       "    <tr>\n",
       "      <th>3</th>\n",
       "      <td>AW450DB_991</td>\n",
       "      <td>Andrew Watts</td>\n",
       "      <td>28</td>\n",
       "      <td>Female</td>\n",
       "      <td>O+</td>\n",
       "      <td>Diabetes</td>\n",
       "      <td>2020-11-18</td>\n",
       "      <td>Kevin Wells</td>\n",
       "      <td>Hernandez Rogers and Vang</td>\n",
       "      <td>Medicare</td>\n",
       "      <td>37909.78</td>\n",
       "      <td>450</td>\n",
       "      <td>Elective</td>\n",
       "      <td>2020-12-18</td>\n",
       "      <td>Ibuprofen</td>\n",
       "      <td>Abnormal</td>\n",
       "      <td>30</td>\n",
       "    </tr>\n",
       "    <tr>\n",
       "      <th>4</th>\n",
       "      <td>AB458CA_E7B</td>\n",
       "      <td>Adrienne Bell</td>\n",
       "      <td>43</td>\n",
       "      <td>Female</td>\n",
       "      <td>AB+</td>\n",
       "      <td>Cancer</td>\n",
       "      <td>2022-09-19</td>\n",
       "      <td>Kathleen Hanna</td>\n",
       "      <td>White-White</td>\n",
       "      <td>Aetna</td>\n",
       "      <td>14238.32</td>\n",
       "      <td>458</td>\n",
       "      <td>Urgent</td>\n",
       "      <td>2022-10-09</td>\n",
       "      <td>Penicillin</td>\n",
       "      <td>Abnormal</td>\n",
       "      <td>20</td>\n",
       "    </tr>\n",
       "  </tbody>\n",
       "</table>\n",
       "</div>"
      ],
      "text/plain": [
       "    patient_id           name  age  gender blood_type medical_condition  \\\n",
       "0  BJ328CA_628  Bobby Jackson   30    Male         B-            Cancer   \n",
       "1  LT265OB_C0E   Leslie Terry   62    Male         A+           Obesity   \n",
       "2  DS205OB_EF6    Danny Smith   76  Female         A-           Obesity   \n",
       "3  AW450DB_991   Andrew Watts   28  Female         O+          Diabetes   \n",
       "4  AB458CA_E7B  Adrienne Bell   43  Female        AB+            Cancer   \n",
       "\n",
       "  date_of_admission            doctor                   hospital  \\\n",
       "0        2024-01-31     Matthew Smith            Sons and Miller   \n",
       "1        2019-08-20   Samantha Davies                    Kim Inc   \n",
       "2        2022-09-22  Tiffany Mitchell                   Cook PLC   \n",
       "3        2020-11-18       Kevin Wells  Hernandez Rogers and Vang   \n",
       "4        2022-09-19    Kathleen Hanna                White-White   \n",
       "\n",
       "  insurance_provider  billing_amount  room_number admission_type  \\\n",
       "0         Blue Cross        18856.28          328         Urgent   \n",
       "1           Medicare        33643.33          265      Emergency   \n",
       "2              Aetna        27955.10          205      Emergency   \n",
       "3           Medicare        37909.78          450       Elective   \n",
       "4              Aetna        14238.32          458         Urgent   \n",
       "\n",
       "  discharge_date   medication  test_results  length_of_stay  \n",
       "0     2024-02-02  Paracetamol        Normal               2  \n",
       "1     2019-08-26    Ibuprofen  Inconclusive               6  \n",
       "2     2022-10-07      Aspirin        Normal              15  \n",
       "3     2020-12-18    Ibuprofen      Abnormal              30  \n",
       "4     2022-10-09   Penicillin      Abnormal              20  "
      ]
     },
     "execution_count": 4,
     "metadata": {},
     "output_type": "execute_result"
    }
   ],
   "source": [
    "### Feature #2: Length of Stay\n",
    "\n",
    "# Ensuring date columns are datetime\n",
    "dashboard_df['date_of_admission'] = pd.to_datetime(dashboard_df['date_of_admission'])\n",
    "dashboard_df['discharge_date'] = pd.to_datetime(dashboard_df['discharge_date'])\n",
    "\n",
    "# Calculating length of stay and handling negative/zero values\n",
    "dashboard_df['length_of_stay'] = (dashboard_df['discharge_date'] - dashboard_df['date_of_admission']).dt.days\n",
    "dashboard_df['length_of_stay'] = dashboard_df['length_of_stay'].apply(lambda x: max(x, 1))\n",
    "dashboard_df.head()"
   ]
  },
  {
   "cell_type": "markdown",
   "id": "483daa02",
   "metadata": {},
   "source": [
    "---"
   ]
  },
  {
   "cell_type": "code",
   "execution_count": 5,
   "id": "2e9bff33",
   "metadata": {},
   "outputs": [
    {
     "data": {
      "application/vnd.microsoft.datawrangler.viewer.v0+json": {
       "columns": [
        {
         "name": "index",
         "rawType": "int64",
         "type": "integer"
        },
        {
         "name": "billing_amount",
         "rawType": "float64",
         "type": "float"
        },
        {
         "name": "treatment_cost",
         "rawType": "float64",
         "type": "float"
        }
       ],
       "conversionMethod": "pd.DataFrame",
       "ref": "18630d68-ab48-4bbc-8952-e4b0e5c843db",
       "rows": [
        [
         "0",
         "18856.28",
         "4680.0"
        ],
        [
         "1",
         "33643.33",
         "7680.0"
        ],
        [
         "2",
         "27955.1",
         "13590.0"
        ],
        [
         "3",
         "37909.78",
         "41920.0"
        ],
        [
         "4",
         "14238.32",
         "30624.0"
        ],
        [
         "5",
         "48145.11",
         "4500.0"
        ],
        [
         "6",
         "19580.87",
         "14136.0"
        ],
        [
         "7",
         "45820.46",
         "13296.0"
        ],
        [
         "8",
         "50119.22",
         "18704.0"
        ],
        [
         "9",
         "19784.63",
         "32496.0"
        ],
        [
         "10",
         "12576.8",
         "5480.0"
        ],
        [
         "11",
         "7999.59",
         "24540.0"
        ],
        [
         "12",
         "43282.28",
         "24064.0"
        ],
        [
         "13",
         "33207.71",
         "23850.0"
        ],
        [
         "14",
         "40701.6",
         "7080.0"
        ],
        [
         "15",
         "12263.36",
         "11508.0"
        ],
        [
         "16",
         "24499.85",
         "17930.0"
        ],
        [
         "17",
         "17440.47",
         "34528.0"
        ],
        [
         "18",
         "18843.02",
         "15824.0"
        ],
        [
         "19",
         "23762.2",
         "6940.0"
        ],
        [
         "20",
         "42.51",
         "4490.0"
        ],
        [
         "21",
         "17695.91",
         "16650.0"
        ],
        [
         "22",
         "5998.1",
         "29400.0"
        ],
        [
         "23",
         "25250.05",
         "11340.0"
        ],
        [
         "24",
         "33211.3",
         "25296.0"
        ],
        [
         "25",
         "19746.83",
         "8944.0"
        ],
        [
         "26",
         "26786.53",
         "22900.0"
        ],
        [
         "27",
         "18834.8",
         "15280.0"
        ],
        [
         "28",
         "32643.3",
         "12340.0"
        ],
        [
         "29",
         "5767.01",
         "14528.0"
        ],
        [
         "30",
         "47909.13",
         "15000.0"
        ],
        [
         "31",
         "25835.32",
         "35184.0"
        ],
        [
         "32",
         "17993.23",
         "23590.0"
        ],
        [
         "33",
         "21185.95",
         "11100.0"
        ],
        [
         "34",
         "8408.95",
         "21550.0"
        ],
        [
         "35",
         "45453.42",
         "26640.0"
        ],
        [
         "36",
         "4397.78",
         "7416.0"
        ],
        [
         "37",
         "9380.33",
         "24300.0"
        ],
        [
         "38",
         "48290.69",
         "25520.0"
        ],
        [
         "39",
         "32973.94",
         "17984.0"
        ],
        [
         "40",
         "49943.28",
         "18050.0"
        ],
        [
         "41",
         "35633.96",
         "12290.0"
        ],
        [
         "42",
         "25966.33",
         "20480.0"
        ],
        [
         "43",
         "21784.45",
         "19180.0"
        ],
        [
         "44",
         "42684.56",
         "25504.0"
        ],
        [
         "45",
         "45585.89",
         "19940.0"
        ],
        [
         "46",
         "29615.44",
         "8280.0"
        ],
        [
         "47",
         "36992.27",
         "9390.0"
        ],
        [
         "48",
         "28051.5",
         "20960.0"
        ],
        [
         "49",
         "16320.23",
         "14880.0"
        ]
       ],
       "shape": {
        "columns": 2,
        "rows": 54966
       }
      },
      "text/html": [
       "<div>\n",
       "<style scoped>\n",
       "    .dataframe tbody tr th:only-of-type {\n",
       "        vertical-align: middle;\n",
       "    }\n",
       "\n",
       "    .dataframe tbody tr th {\n",
       "        vertical-align: top;\n",
       "    }\n",
       "\n",
       "    .dataframe thead th {\n",
       "        text-align: right;\n",
       "    }\n",
       "</style>\n",
       "<table border=\"1\" class=\"dataframe\">\n",
       "  <thead>\n",
       "    <tr style=\"text-align: right;\">\n",
       "      <th></th>\n",
       "      <th>billing_amount</th>\n",
       "      <th>treatment_cost</th>\n",
       "    </tr>\n",
       "  </thead>\n",
       "  <tbody>\n",
       "    <tr>\n",
       "      <th>0</th>\n",
       "      <td>18856.28</td>\n",
       "      <td>4680.0</td>\n",
       "    </tr>\n",
       "    <tr>\n",
       "      <th>1</th>\n",
       "      <td>33643.33</td>\n",
       "      <td>7680.0</td>\n",
       "    </tr>\n",
       "    <tr>\n",
       "      <th>2</th>\n",
       "      <td>27955.10</td>\n",
       "      <td>13590.0</td>\n",
       "    </tr>\n",
       "    <tr>\n",
       "      <th>3</th>\n",
       "      <td>37909.78</td>\n",
       "      <td>41920.0</td>\n",
       "    </tr>\n",
       "    <tr>\n",
       "      <th>4</th>\n",
       "      <td>14238.32</td>\n",
       "      <td>30624.0</td>\n",
       "    </tr>\n",
       "    <tr>\n",
       "      <th>...</th>\n",
       "      <td>...</td>\n",
       "      <td>...</td>\n",
       "    </tr>\n",
       "    <tr>\n",
       "      <th>54961</th>\n",
       "      <td>2650.71</td>\n",
       "      <td>40544.0</td>\n",
       "    </tr>\n",
       "    <tr>\n",
       "      <th>54962</th>\n",
       "      <td>31457.80</td>\n",
       "      <td>8790.0</td>\n",
       "    </tr>\n",
       "    <tr>\n",
       "      <th>54963</th>\n",
       "      <td>27620.76</td>\n",
       "      <td>38880.0</td>\n",
       "    </tr>\n",
       "    <tr>\n",
       "      <th>54964</th>\n",
       "      <td>32451.09</td>\n",
       "      <td>9520.0</td>\n",
       "    </tr>\n",
       "    <tr>\n",
       "      <th>54965</th>\n",
       "      <td>4010.13</td>\n",
       "      <td>36400.0</td>\n",
       "    </tr>\n",
       "  </tbody>\n",
       "</table>\n",
       "<p>54966 rows × 2 columns</p>\n",
       "</div>"
      ],
      "text/plain": [
       "       billing_amount  treatment_cost\n",
       "0            18856.28          4680.0\n",
       "1            33643.33          7680.0\n",
       "2            27955.10         13590.0\n",
       "3            37909.78         41920.0\n",
       "4            14238.32         30624.0\n",
       "...               ...             ...\n",
       "54961         2650.71         40544.0\n",
       "54962        31457.80          8790.0\n",
       "54963        27620.76         38880.0\n",
       "54964        32451.09          9520.0\n",
       "54965         4010.13         36400.0\n",
       "\n",
       "[54966 rows x 2 columns]"
      ]
     },
     "execution_count": 5,
     "metadata": {},
     "output_type": "execute_result"
    }
   ],
   "source": [
    "### Feature #3: Projected Treatment Cost\n",
    "\n",
    "# Defining cost mappings with an increased base cost to better reflect real-world pricing\n",
    "base_cost_per_day = 800\n",
    "\n",
    "condition_cost = {\n",
    "    'Cancer': 3000, 'Obesity': 1500, 'Diabetes': 2100,\n",
    "    'Asthma': 1200, 'Hypertension': 1800, 'Arthritis': 1050\n",
    "}\n",
    "\n",
    "medication_cost = {\n",
    "    'Paracetamol': 80, 'Ibuprofen': 100, 'Aspirin': 90,\n",
    "    'Penicillin': 140, 'Lipitor': 250\n",
    "}\n",
    "\n",
    "test_multiplier = {\n",
    "    'Normal': 1.0, 'Inconclusive': 1.2, 'Abnormal': 1.6\n",
    "}\n",
    "\n",
    "# Treatment cost function to calculate final treatment cost based on different parameters\n",
    "def calculate_treatment_cost(row):\n",
    "    base = base_cost_per_day * row['length_of_stay']\n",
    "    cond = condition_cost.get(row['medical_condition'], 400)\n",
    "    med = medication_cost.get(row['medication'], 100)\n",
    "    mult = test_multiplier.get(row['test_results'], 1.0)\n",
    "    return round((base + cond + med) * mult, 2)\n",
    "\n",
    "# Testing the reults to compare whether we're going the right direction with projected costs or not\n",
    "dashboard_df['treatment_cost'] = dashboard_df.apply(calculate_treatment_cost, axis=1)\n",
    "dashboard_df[['billing_amount', 'treatment_cost']]"
   ]
  },
  {
   "cell_type": "code",
   "execution_count": 6,
   "id": "5e255c32",
   "metadata": {},
   "outputs": [
    {
     "name": "stdout",
     "output_type": "stream",
     "text": [
      "count    54966.000000\n",
      "mean      7412.055196\n",
      "std      17222.194547\n",
      "min     -42808.490000\n",
      "25%      -5176.555000\n",
      "50%       7404.120000\n",
      "75%      20407.220000\n",
      "max      49380.040000\n",
      "Name: cost_gap, dtype: float64\n",
      "   billing_amount  projected_treatment_cost  cost_gap\n",
      "0        18856.28                    4680.0  14176.28\n",
      "1        33643.33                    7680.0  25963.33\n",
      "2        27955.10                   13590.0  14365.10\n",
      "3        37909.78                   41920.0  -4010.22\n",
      "4        14238.32                   30624.0 -16385.68\n"
     ]
    },
    {
     "data": {
      "text/plain": [
       "0        High\n",
       "1        High\n",
       "2        High\n",
       "3          OK\n",
       "4        High\n",
       "         ... \n",
       "54961    High\n",
       "54962    High\n",
       "54963    High\n",
       "54964    High\n",
       "54965    High\n",
       "Name: cost_gap_flag, Length: 54966, dtype: object"
      ]
     },
     "execution_count": 6,
     "metadata": {},
     "output_type": "execute_result"
    }
   ],
   "source": [
    "dashboard_df.rename(columns={'treatment_cost': 'projected_treatment_cost'}, inplace=True)\n",
    "\n",
    "# This helps us see the gaps between the real and projected values.\n",
    "dashboard_df['cost_gap'] = (dashboard_df['billing_amount'] - dashboard_df['projected_treatment_cost']).round(2)\n",
    "\n",
    "print(dashboard_df['cost_gap'].describe())\n",
    "print(dashboard_df[['billing_amount', 'projected_treatment_cost', 'cost_gap']].head())\n",
    "\n",
    "# Flagginf rows where the difference is too large for later review\n",
    "dashboard_df['cost_gap_flag'] = dashboard_df['cost_gap'].apply(lambda x: 'High' if abs(x) > 10000 else 'OK')\n",
    "\n",
    "dashboard_df['cost_gap_flag']"
   ]
  },
  {
   "cell_type": "markdown",
   "id": "a1342b2b",
   "metadata": {},
   "source": [
    "---"
   ]
  },
  {
   "cell_type": "code",
   "execution_count": 7,
   "id": "26f6eb19",
   "metadata": {},
   "outputs": [],
   "source": [
    "### Feature #4: Readmission Risk Flag\n",
    "\n",
    "# Sorting DataFrame by patient ID and admission date\n",
    "df_sorted = dashboard_df.sort_values(by=['patient_id', 'date_of_admission']).reset_index(drop=True)\n",
    "\n",
    "# Initializing the readmission flag\n",
    "df_sorted['readmitted_within_30_days'] = False\n",
    "\n",
    "# Iterating through each patient group\n",
    "for patient_id, group in df_sorted.groupby('patient_id'):\n",
    "    admission_dates = group['date_of_admission'].sort_values().reset_index()\n",
    "    diffs = admission_dates['date_of_admission'].diff().dt.days  # Calculating days between admissions\n",
    "    readmitted_mask = diffs <= 30  # Checking if the difference is 30 days or less\n",
    "    readmitted_indices = admission_dates.loc[readmitted_mask.fillna(False), 'index']  # Getting indices of readmissions\n",
    "    df_sorted.loc[readmitted_indices, 'readmitted_within_30_days'] = True  # Marking readmissions\n",
    "\n",
    "# Calculating total readmissions per patient\n",
    "readmission_counts = df_sorted.groupby('patient_id')['readmitted_within_30_days'].sum().reset_index()\n",
    "readmission_counts.columns = ['patient_id', 'readmission_count']\n",
    "\n",
    "# Merging readmission count into main DataFrame\n",
    "dashboard_df = pd.merge(dashboard_df, readmission_counts, on='patient_id', how='left')\n",
    "\n",
    "# Assigning simplified flag based on whether any readmission occurred\n",
    "dashboard_df['readmission_risk_flag'] = dashboard_df['readmission_count'].apply(\n",
    "    lambda x: 'Readmitted' if x > 0 else 'Not Readmitted'\n",
    ")"
   ]
  },
  {
   "cell_type": "code",
   "execution_count": 8,
   "id": "6c00ab1a",
   "metadata": {},
   "outputs": [
    {
     "name": "stdout",
     "output_type": "stream",
     "text": [
      "✅ Feature Engineering complete! Processed data saved in 'powerbi/data/dashboard_dataset.csv'.\n"
     ]
    }
   ],
   "source": [
    "# Saving final dataset\n",
    "dashboard_df.to_csv(\"../powerbi/data/dashboard_dataset.csv\", index=False)\n",
    "\n",
    "print(\"✅ Feature Engineering complete! Processed data saved in 'powerbi/data/dashboard_dataset.csv'.\")"
   ]
  }
 ],
 "metadata": {
  "kernelspec": {
   "display_name": "base",
   "language": "python",
   "name": "python3"
  },
  "language_info": {
   "codemirror_mode": {
    "name": "ipython",
    "version": 3
   },
   "file_extension": ".py",
   "mimetype": "text/x-python",
   "name": "python",
   "nbconvert_exporter": "python",
   "pygments_lexer": "ipython3",
   "version": "3.12.7"
  }
 },
 "nbformat": 4,
 "nbformat_minor": 5
}
